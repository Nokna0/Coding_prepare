{
  "nbformat": 4,
  "nbformat_minor": 0,
  "metadata": {
    "colab": {
      "provenance": []
    },
    "kernelspec": {
      "display_name": "Python 3",
      "name": "python3"
    },
    "language_info": {
      "name": "python"
    }
  },
  "cells": [
    {
      "cell_type": "markdown",
      "metadata": {
        "id": "zHaM_glibxcN"
      },
      "source": [
        "## 환경설정 및 데이터 파일 업로드\n"
      ]
    },
    {
      "cell_type": "markdown",
      "metadata": {
        "id": "Uaiv2IYU6xSx"
      },
      "source": [
        "colab 환경에서 그래프에 한글 폰트 사용을 위해 다음을 코드를 실행시킵니다.<br>\n",
        "실행이 완료되면 메뉴의 [런타임]-[런타임다시시작]을 선택하고, 런타임 다시 시작창에서 [예]를 선택합니다."
      ]
    },
    {
      "cell_type": "code",
      "metadata": {
        "id": "9GE8Ix1KSXuR",
        "colab": {
          "base_uri": "https://localhost:8080/"
        },
        "collapsed": true,
        "outputId": "66661ee2-f49d-463b-a1b7-ff1eca651b60"
      },
      "source": [
        "!sudo apt-get install -y fonts-nanum\n",
        "!sudo fc-cache -fv\n",
        "!rm ~/.cache/matplotlib -rf"
      ],
      "execution_count": 1,
      "outputs": [
        {
          "output_type": "stream",
          "name": "stdout",
          "text": [
            "Reading package lists... Done\n",
            "Building dependency tree... Done\n",
            "Reading state information... Done\n",
            "fonts-nanum is already the newest version (20200506-1).\n",
            "0 upgraded, 0 newly installed, 0 to remove and 35 not upgraded.\n",
            "/usr/share/fonts: caching, new cache contents: 0 fonts, 1 dirs\n",
            "/usr/share/fonts/truetype: caching, new cache contents: 0 fonts, 3 dirs\n",
            "/usr/share/fonts/truetype/humor-sans: caching, new cache contents: 1 fonts, 0 dirs\n",
            "/usr/share/fonts/truetype/liberation: caching, new cache contents: 16 fonts, 0 dirs\n",
            "/usr/share/fonts/truetype/nanum: caching, new cache contents: 12 fonts, 0 dirs\n",
            "/usr/local/share/fonts: caching, new cache contents: 0 fonts, 0 dirs\n",
            "/root/.local/share/fonts: skipping, no such directory\n",
            "/root/.fonts: skipping, no such directory\n",
            "/usr/share/fonts/truetype: skipping, looped directory detected\n",
            "/usr/share/fonts/truetype/humor-sans: skipping, looped directory detected\n",
            "/usr/share/fonts/truetype/liberation: skipping, looped directory detected\n",
            "/usr/share/fonts/truetype/nanum: skipping, looped directory detected\n",
            "/var/cache/fontconfig: cleaning cache directory\n",
            "/root/.cache/fontconfig: not cleaning non-existent cache directory\n",
            "/root/.fontconfig: not cleaning non-existent cache directory\n",
            "fc-cache: succeeded\n"
          ]
        }
      ]
    },
    {
      "cell_type": "markdown",
      "metadata": {
        "id": "bE8pUaP2cayN"
      },
      "source": [
        "내 컴퓨터에 있는 데이터 파일을 업로드 합니다."
      ]
    },
    {
      "cell_type": "code",
      "metadata": {
        "id": "e4DNpgpebo5J",
        "colab": {
          "base_uri": "https://localhost:8080/",
          "height": 110
        },
        "outputId": "83142f8b-2002-4638-d6de-97a9533e844a"
      },
      "source": [
        "from google.colab import files\n",
        "myfile = files.upload()"
      ],
      "execution_count": 2,
      "outputs": [
        {
          "output_type": "display_data",
          "data": {
            "text/plain": [
              "<IPython.core.display.HTML object>"
            ],
            "text/html": [
              "\n",
              "     <input type=\"file\" id=\"files-b4686c7c-dc89-4521-bd29-106ab0ad090e\" name=\"files[]\" multiple disabled\n",
              "        style=\"border:none\" />\n",
              "     <output id=\"result-b4686c7c-dc89-4521-bd29-106ab0ad090e\">\n",
              "      Upload widget is only available when the cell has been executed in the\n",
              "      current browser session. Please rerun this cell to enable.\n",
              "      </output>\n",
              "      <script>// Copyright 2017 Google LLC\n",
              "//\n",
              "// Licensed under the Apache License, Version 2.0 (the \"License\");\n",
              "// you may not use this file except in compliance with the License.\n",
              "// You may obtain a copy of the License at\n",
              "//\n",
              "//      http://www.apache.org/licenses/LICENSE-2.0\n",
              "//\n",
              "// Unless required by applicable law or agreed to in writing, software\n",
              "// distributed under the License is distributed on an \"AS IS\" BASIS,\n",
              "// WITHOUT WARRANTIES OR CONDITIONS OF ANY KIND, either express or implied.\n",
              "// See the License for the specific language governing permissions and\n",
              "// limitations under the License.\n",
              "\n",
              "/**\n",
              " * @fileoverview Helpers for google.colab Python module.\n",
              " */\n",
              "(function(scope) {\n",
              "function span(text, styleAttributes = {}) {\n",
              "  const element = document.createElement('span');\n",
              "  element.textContent = text;\n",
              "  for (const key of Object.keys(styleAttributes)) {\n",
              "    element.style[key] = styleAttributes[key];\n",
              "  }\n",
              "  return element;\n",
              "}\n",
              "\n",
              "// Max number of bytes which will be uploaded at a time.\n",
              "const MAX_PAYLOAD_SIZE = 100 * 1024;\n",
              "\n",
              "function _uploadFiles(inputId, outputId) {\n",
              "  const steps = uploadFilesStep(inputId, outputId);\n",
              "  const outputElement = document.getElementById(outputId);\n",
              "  // Cache steps on the outputElement to make it available for the next call\n",
              "  // to uploadFilesContinue from Python.\n",
              "  outputElement.steps = steps;\n",
              "\n",
              "  return _uploadFilesContinue(outputId);\n",
              "}\n",
              "\n",
              "// This is roughly an async generator (not supported in the browser yet),\n",
              "// where there are multiple asynchronous steps and the Python side is going\n",
              "// to poll for completion of each step.\n",
              "// This uses a Promise to block the python side on completion of each step,\n",
              "// then passes the result of the previous step as the input to the next step.\n",
              "function _uploadFilesContinue(outputId) {\n",
              "  const outputElement = document.getElementById(outputId);\n",
              "  const steps = outputElement.steps;\n",
              "\n",
              "  const next = steps.next(outputElement.lastPromiseValue);\n",
              "  return Promise.resolve(next.value.promise).then((value) => {\n",
              "    // Cache the last promise value to make it available to the next\n",
              "    // step of the generator.\n",
              "    outputElement.lastPromiseValue = value;\n",
              "    return next.value.response;\n",
              "  });\n",
              "}\n",
              "\n",
              "/**\n",
              " * Generator function which is called between each async step of the upload\n",
              " * process.\n",
              " * @param {string} inputId Element ID of the input file picker element.\n",
              " * @param {string} outputId Element ID of the output display.\n",
              " * @return {!Iterable<!Object>} Iterable of next steps.\n",
              " */\n",
              "function* uploadFilesStep(inputId, outputId) {\n",
              "  const inputElement = document.getElementById(inputId);\n",
              "  inputElement.disabled = false;\n",
              "\n",
              "  const outputElement = document.getElementById(outputId);\n",
              "  outputElement.innerHTML = '';\n",
              "\n",
              "  const pickedPromise = new Promise((resolve) => {\n",
              "    inputElement.addEventListener('change', (e) => {\n",
              "      resolve(e.target.files);\n",
              "    });\n",
              "  });\n",
              "\n",
              "  const cancel = document.createElement('button');\n",
              "  inputElement.parentElement.appendChild(cancel);\n",
              "  cancel.textContent = 'Cancel upload';\n",
              "  const cancelPromise = new Promise((resolve) => {\n",
              "    cancel.onclick = () => {\n",
              "      resolve(null);\n",
              "    };\n",
              "  });\n",
              "\n",
              "  // Wait for the user to pick the files.\n",
              "  const files = yield {\n",
              "    promise: Promise.race([pickedPromise, cancelPromise]),\n",
              "    response: {\n",
              "      action: 'starting',\n",
              "    }\n",
              "  };\n",
              "\n",
              "  cancel.remove();\n",
              "\n",
              "  // Disable the input element since further picks are not allowed.\n",
              "  inputElement.disabled = true;\n",
              "\n",
              "  if (!files) {\n",
              "    return {\n",
              "      response: {\n",
              "        action: 'complete',\n",
              "      }\n",
              "    };\n",
              "  }\n",
              "\n",
              "  for (const file of files) {\n",
              "    const li = document.createElement('li');\n",
              "    li.append(span(file.name, {fontWeight: 'bold'}));\n",
              "    li.append(span(\n",
              "        `(${file.type || 'n/a'}) - ${file.size} bytes, ` +\n",
              "        `last modified: ${\n",
              "            file.lastModifiedDate ? file.lastModifiedDate.toLocaleDateString() :\n",
              "                                    'n/a'} - `));\n",
              "    const percent = span('0% done');\n",
              "    li.appendChild(percent);\n",
              "\n",
              "    outputElement.appendChild(li);\n",
              "\n",
              "    const fileDataPromise = new Promise((resolve) => {\n",
              "      const reader = new FileReader();\n",
              "      reader.onload = (e) => {\n",
              "        resolve(e.target.result);\n",
              "      };\n",
              "      reader.readAsArrayBuffer(file);\n",
              "    });\n",
              "    // Wait for the data to be ready.\n",
              "    let fileData = yield {\n",
              "      promise: fileDataPromise,\n",
              "      response: {\n",
              "        action: 'continue',\n",
              "      }\n",
              "    };\n",
              "\n",
              "    // Use a chunked sending to avoid message size limits. See b/62115660.\n",
              "    let position = 0;\n",
              "    do {\n",
              "      const length = Math.min(fileData.byteLength - position, MAX_PAYLOAD_SIZE);\n",
              "      const chunk = new Uint8Array(fileData, position, length);\n",
              "      position += length;\n",
              "\n",
              "      const base64 = btoa(String.fromCharCode.apply(null, chunk));\n",
              "      yield {\n",
              "        response: {\n",
              "          action: 'append',\n",
              "          file: file.name,\n",
              "          data: base64,\n",
              "        },\n",
              "      };\n",
              "\n",
              "      let percentDone = fileData.byteLength === 0 ?\n",
              "          100 :\n",
              "          Math.round((position / fileData.byteLength) * 100);\n",
              "      percent.textContent = `${percentDone}% done`;\n",
              "\n",
              "    } while (position < fileData.byteLength);\n",
              "  }\n",
              "\n",
              "  // All done.\n",
              "  yield {\n",
              "    response: {\n",
              "      action: 'complete',\n",
              "    }\n",
              "  };\n",
              "}\n",
              "\n",
              "scope.google = scope.google || {};\n",
              "scope.google.colab = scope.google.colab || {};\n",
              "scope.google.colab._files = {\n",
              "  _uploadFiles,\n",
              "  _uploadFilesContinue,\n",
              "};\n",
              "})(self);\n",
              "</script> "
            ]
          },
          "metadata": {}
        },
        {
          "output_type": "stream",
          "name": "stdout",
          "text": [
            "Saving 대출자료.csv to 대출자료.csv\n",
            "Saving 삼양분식(L).csv to 삼양분식(L).csv\n"
          ]
        }
      ]
    },
    {
      "cell_type": "markdown",
      "metadata": {
        "id": "VYbb0wtkcyFZ"
      },
      "source": [
        "업로드된 파일을 사용할 수 있도록 준비하고, 간단히 내용을 확인합니다.\n",
        "시작 부분의 데이터를 살펴보면 간단한 정보들을 확인할 수 있습니다.\n",
        "또 len(data) 명령어로 데이터가 총 몇개의 행으로 되어 있는지 확인할 수 있습니다."
      ]
    },
    {
      "cell_type": "code",
      "metadata": {
        "id": "LcOZMKkEdDB2",
        "colab": {
          "base_uri": "https://localhost:8080/",
          "height": 206
        },
        "outputId": "b18e8b09-c572-4cb1-be81-2a7cf2710792"
      },
      "source": [
        "import io\n",
        "import pandas as pd\n",
        "data = pd.read_csv(io.BytesIO(myfile['대출자료.csv']))\n",
        "\n",
        "# 처음 5개의 데이터를 확인\n",
        "data.head()"
      ],
      "execution_count": 13,
      "outputs": [
        {
          "output_type": "execute_result",
          "data": {
            "text/plain": [
              "   번호  대출자          등록번호         자료명            청구기호                  대출일  \\\n",
              "0   1  김○만  GE0000000562  미술관에 간 화학자  650.4 전82ㅁ c.2  2021.03.02 10:26:30   \n",
              "1   2  김○만  GE0000000563  미술관에 간 화학자  650.4 전82ㅁ c.3  2021.03.02 10:26:31   \n",
              "2   3  김○만  GE0000000561  미술관에 간 화학자      650.4 전82ㅁ  2021.03.02 10:26:32   \n",
              "3   4  김○만  GE0000013056  미술관에 간 화학자  650.4 전82ㅁ c.4  2021.03.02 10:26:34   \n",
              "4   5  김○만  GE0000018194  미술관에 간 화학자  650.4 전82ㅁ c.5  2021.03.02 10:26:35   \n",
              "\n",
              "        반납예정일  연장회수  상태  \n",
              "0  2023.11.26     0  정상  \n",
              "1  2023.11.26     0  정상  \n",
              "2  2023.11.26     0  정상  \n",
              "3  2023.11.26     0  정상  \n",
              "4  2023.11.26     0  정상  "
            ],
            "text/html": [
              "\n",
              "  <div id=\"df-85df079a-6626-4c72-8182-b26ee8f96b46\" class=\"colab-df-container\">\n",
              "    <div>\n",
              "<style scoped>\n",
              "    .dataframe tbody tr th:only-of-type {\n",
              "        vertical-align: middle;\n",
              "    }\n",
              "\n",
              "    .dataframe tbody tr th {\n",
              "        vertical-align: top;\n",
              "    }\n",
              "\n",
              "    .dataframe thead th {\n",
              "        text-align: right;\n",
              "    }\n",
              "</style>\n",
              "<table border=\"1\" class=\"dataframe\">\n",
              "  <thead>\n",
              "    <tr style=\"text-align: right;\">\n",
              "      <th></th>\n",
              "      <th>번호</th>\n",
              "      <th>대출자</th>\n",
              "      <th>등록번호</th>\n",
              "      <th>자료명</th>\n",
              "      <th>청구기호</th>\n",
              "      <th>대출일</th>\n",
              "      <th>반납예정일</th>\n",
              "      <th>연장회수</th>\n",
              "      <th>상태</th>\n",
              "    </tr>\n",
              "  </thead>\n",
              "  <tbody>\n",
              "    <tr>\n",
              "      <th>0</th>\n",
              "      <td>1</td>\n",
              "      <td>김○만</td>\n",
              "      <td>GE0000000562</td>\n",
              "      <td>미술관에 간 화학자</td>\n",
              "      <td>650.4 전82ㅁ c.2</td>\n",
              "      <td>2021.03.02 10:26:30</td>\n",
              "      <td>2023.11.26</td>\n",
              "      <td>0</td>\n",
              "      <td>정상</td>\n",
              "    </tr>\n",
              "    <tr>\n",
              "      <th>1</th>\n",
              "      <td>2</td>\n",
              "      <td>김○만</td>\n",
              "      <td>GE0000000563</td>\n",
              "      <td>미술관에 간 화학자</td>\n",
              "      <td>650.4 전82ㅁ c.3</td>\n",
              "      <td>2021.03.02 10:26:31</td>\n",
              "      <td>2023.11.26</td>\n",
              "      <td>0</td>\n",
              "      <td>정상</td>\n",
              "    </tr>\n",
              "    <tr>\n",
              "      <th>2</th>\n",
              "      <td>3</td>\n",
              "      <td>김○만</td>\n",
              "      <td>GE0000000561</td>\n",
              "      <td>미술관에 간 화학자</td>\n",
              "      <td>650.4 전82ㅁ</td>\n",
              "      <td>2021.03.02 10:26:32</td>\n",
              "      <td>2023.11.26</td>\n",
              "      <td>0</td>\n",
              "      <td>정상</td>\n",
              "    </tr>\n",
              "    <tr>\n",
              "      <th>3</th>\n",
              "      <td>4</td>\n",
              "      <td>김○만</td>\n",
              "      <td>GE0000013056</td>\n",
              "      <td>미술관에 간 화학자</td>\n",
              "      <td>650.4 전82ㅁ c.4</td>\n",
              "      <td>2021.03.02 10:26:34</td>\n",
              "      <td>2023.11.26</td>\n",
              "      <td>0</td>\n",
              "      <td>정상</td>\n",
              "    </tr>\n",
              "    <tr>\n",
              "      <th>4</th>\n",
              "      <td>5</td>\n",
              "      <td>김○만</td>\n",
              "      <td>GE0000018194</td>\n",
              "      <td>미술관에 간 화학자</td>\n",
              "      <td>650.4 전82ㅁ c.5</td>\n",
              "      <td>2021.03.02 10:26:35</td>\n",
              "      <td>2023.11.26</td>\n",
              "      <td>0</td>\n",
              "      <td>정상</td>\n",
              "    </tr>\n",
              "  </tbody>\n",
              "</table>\n",
              "</div>\n",
              "    <div class=\"colab-df-buttons\">\n",
              "\n",
              "  <div class=\"colab-df-container\">\n",
              "    <button class=\"colab-df-convert\" onclick=\"convertToInteractive('df-85df079a-6626-4c72-8182-b26ee8f96b46')\"\n",
              "            title=\"Convert this dataframe to an interactive table.\"\n",
              "            style=\"display:none;\">\n",
              "\n",
              "  <svg xmlns=\"http://www.w3.org/2000/svg\" height=\"24px\" viewBox=\"0 -960 960 960\">\n",
              "    <path d=\"M120-120v-720h720v720H120Zm60-500h600v-160H180v160Zm220 220h160v-160H400v160Zm0 220h160v-160H400v160ZM180-400h160v-160H180v160Zm440 0h160v-160H620v160ZM180-180h160v-160H180v160Zm440 0h160v-160H620v160Z\"/>\n",
              "  </svg>\n",
              "    </button>\n",
              "\n",
              "  <style>\n",
              "    .colab-df-container {\n",
              "      display:flex;\n",
              "      gap: 12px;\n",
              "    }\n",
              "\n",
              "    .colab-df-convert {\n",
              "      background-color: #E8F0FE;\n",
              "      border: none;\n",
              "      border-radius: 50%;\n",
              "      cursor: pointer;\n",
              "      display: none;\n",
              "      fill: #1967D2;\n",
              "      height: 32px;\n",
              "      padding: 0 0 0 0;\n",
              "      width: 32px;\n",
              "    }\n",
              "\n",
              "    .colab-df-convert:hover {\n",
              "      background-color: #E2EBFA;\n",
              "      box-shadow: 0px 1px 2px rgba(60, 64, 67, 0.3), 0px 1px 3px 1px rgba(60, 64, 67, 0.15);\n",
              "      fill: #174EA6;\n",
              "    }\n",
              "\n",
              "    .colab-df-buttons div {\n",
              "      margin-bottom: 4px;\n",
              "    }\n",
              "\n",
              "    [theme=dark] .colab-df-convert {\n",
              "      background-color: #3B4455;\n",
              "      fill: #D2E3FC;\n",
              "    }\n",
              "\n",
              "    [theme=dark] .colab-df-convert:hover {\n",
              "      background-color: #434B5C;\n",
              "      box-shadow: 0px 1px 3px 1px rgba(0, 0, 0, 0.15);\n",
              "      filter: drop-shadow(0px 1px 2px rgba(0, 0, 0, 0.3));\n",
              "      fill: #FFFFFF;\n",
              "    }\n",
              "  </style>\n",
              "\n",
              "    <script>\n",
              "      const buttonEl =\n",
              "        document.querySelector('#df-85df079a-6626-4c72-8182-b26ee8f96b46 button.colab-df-convert');\n",
              "      buttonEl.style.display =\n",
              "        google.colab.kernel.accessAllowed ? 'block' : 'none';\n",
              "\n",
              "      async function convertToInteractive(key) {\n",
              "        const element = document.querySelector('#df-85df079a-6626-4c72-8182-b26ee8f96b46');\n",
              "        const dataTable =\n",
              "          await google.colab.kernel.invokeFunction('convertToInteractive',\n",
              "                                                    [key], {});\n",
              "        if (!dataTable) return;\n",
              "\n",
              "        const docLinkHtml = 'Like what you see? Visit the ' +\n",
              "          '<a target=\"_blank\" href=https://colab.research.google.com/notebooks/data_table.ipynb>data table notebook</a>'\n",
              "          + ' to learn more about interactive tables.';\n",
              "        element.innerHTML = '';\n",
              "        dataTable['output_type'] = 'display_data';\n",
              "        await google.colab.output.renderOutput(dataTable, element);\n",
              "        const docLink = document.createElement('div');\n",
              "        docLink.innerHTML = docLinkHtml;\n",
              "        element.appendChild(docLink);\n",
              "      }\n",
              "    </script>\n",
              "  </div>\n",
              "\n",
              "\n",
              "    <div id=\"df-1c969b15-fe3c-4953-9f1e-0660f29a1d2a\">\n",
              "      <button class=\"colab-df-quickchart\" onclick=\"quickchart('df-1c969b15-fe3c-4953-9f1e-0660f29a1d2a')\"\n",
              "                title=\"Suggest charts\"\n",
              "                style=\"display:none;\">\n",
              "\n",
              "<svg xmlns=\"http://www.w3.org/2000/svg\" height=\"24px\"viewBox=\"0 0 24 24\"\n",
              "     width=\"24px\">\n",
              "    <g>\n",
              "        <path d=\"M19 3H5c-1.1 0-2 .9-2 2v14c0 1.1.9 2 2 2h14c1.1 0 2-.9 2-2V5c0-1.1-.9-2-2-2zM9 17H7v-7h2v7zm4 0h-2V7h2v10zm4 0h-2v-4h2v4z\"/>\n",
              "    </g>\n",
              "</svg>\n",
              "      </button>\n",
              "\n",
              "<style>\n",
              "  .colab-df-quickchart {\n",
              "      --bg-color: #E8F0FE;\n",
              "      --fill-color: #1967D2;\n",
              "      --hover-bg-color: #E2EBFA;\n",
              "      --hover-fill-color: #174EA6;\n",
              "      --disabled-fill-color: #AAA;\n",
              "      --disabled-bg-color: #DDD;\n",
              "  }\n",
              "\n",
              "  [theme=dark] .colab-df-quickchart {\n",
              "      --bg-color: #3B4455;\n",
              "      --fill-color: #D2E3FC;\n",
              "      --hover-bg-color: #434B5C;\n",
              "      --hover-fill-color: #FFFFFF;\n",
              "      --disabled-bg-color: #3B4455;\n",
              "      --disabled-fill-color: #666;\n",
              "  }\n",
              "\n",
              "  .colab-df-quickchart {\n",
              "    background-color: var(--bg-color);\n",
              "    border: none;\n",
              "    border-radius: 50%;\n",
              "    cursor: pointer;\n",
              "    display: none;\n",
              "    fill: var(--fill-color);\n",
              "    height: 32px;\n",
              "    padding: 0;\n",
              "    width: 32px;\n",
              "  }\n",
              "\n",
              "  .colab-df-quickchart:hover {\n",
              "    background-color: var(--hover-bg-color);\n",
              "    box-shadow: 0 1px 2px rgba(60, 64, 67, 0.3), 0 1px 3px 1px rgba(60, 64, 67, 0.15);\n",
              "    fill: var(--button-hover-fill-color);\n",
              "  }\n",
              "\n",
              "  .colab-df-quickchart-complete:disabled,\n",
              "  .colab-df-quickchart-complete:disabled:hover {\n",
              "    background-color: var(--disabled-bg-color);\n",
              "    fill: var(--disabled-fill-color);\n",
              "    box-shadow: none;\n",
              "  }\n",
              "\n",
              "  .colab-df-spinner {\n",
              "    border: 2px solid var(--fill-color);\n",
              "    border-color: transparent;\n",
              "    border-bottom-color: var(--fill-color);\n",
              "    animation:\n",
              "      spin 1s steps(1) infinite;\n",
              "  }\n",
              "\n",
              "  @keyframes spin {\n",
              "    0% {\n",
              "      border-color: transparent;\n",
              "      border-bottom-color: var(--fill-color);\n",
              "      border-left-color: var(--fill-color);\n",
              "    }\n",
              "    20% {\n",
              "      border-color: transparent;\n",
              "      border-left-color: var(--fill-color);\n",
              "      border-top-color: var(--fill-color);\n",
              "    }\n",
              "    30% {\n",
              "      border-color: transparent;\n",
              "      border-left-color: var(--fill-color);\n",
              "      border-top-color: var(--fill-color);\n",
              "      border-right-color: var(--fill-color);\n",
              "    }\n",
              "    40% {\n",
              "      border-color: transparent;\n",
              "      border-right-color: var(--fill-color);\n",
              "      border-top-color: var(--fill-color);\n",
              "    }\n",
              "    60% {\n",
              "      border-color: transparent;\n",
              "      border-right-color: var(--fill-color);\n",
              "    }\n",
              "    80% {\n",
              "      border-color: transparent;\n",
              "      border-right-color: var(--fill-color);\n",
              "      border-bottom-color: var(--fill-color);\n",
              "    }\n",
              "    90% {\n",
              "      border-color: transparent;\n",
              "      border-bottom-color: var(--fill-color);\n",
              "    }\n",
              "  }\n",
              "</style>\n",
              "\n",
              "      <script>\n",
              "        async function quickchart(key) {\n",
              "          const quickchartButtonEl =\n",
              "            document.querySelector('#' + key + ' button');\n",
              "          quickchartButtonEl.disabled = true;  // To prevent multiple clicks.\n",
              "          quickchartButtonEl.classList.add('colab-df-spinner');\n",
              "          try {\n",
              "            const charts = await google.colab.kernel.invokeFunction(\n",
              "                'suggestCharts', [key], {});\n",
              "          } catch (error) {\n",
              "            console.error('Error during call to suggestCharts:', error);\n",
              "          }\n",
              "          quickchartButtonEl.classList.remove('colab-df-spinner');\n",
              "          quickchartButtonEl.classList.add('colab-df-quickchart-complete');\n",
              "        }\n",
              "        (() => {\n",
              "          let quickchartButtonEl =\n",
              "            document.querySelector('#df-1c969b15-fe3c-4953-9f1e-0660f29a1d2a button');\n",
              "          quickchartButtonEl.style.display =\n",
              "            google.colab.kernel.accessAllowed ? 'block' : 'none';\n",
              "        })();\n",
              "      </script>\n",
              "    </div>\n",
              "\n",
              "    </div>\n",
              "  </div>\n"
            ],
            "application/vnd.google.colaboratory.intrinsic+json": {
              "type": "dataframe",
              "variable_name": "data",
              "summary": "{\n  \"name\": \"data\",\n  \"rows\": 1177,\n  \"fields\": [\n    {\n      \"column\": \"\\ubc88\\ud638\",\n      \"properties\": {\n        \"dtype\": \"number\",\n        \"std\": 339,\n        \"min\": 1,\n        \"max\": 1177,\n        \"num_unique_values\": 1177,\n        \"samples\": [\n          108,\n          775,\n          82\n        ],\n        \"semantic_type\": \"\",\n        \"description\": \"\"\n      }\n    },\n    {\n      \"column\": \"\\ub300\\ucd9c\\uc790\",\n      \"properties\": {\n        \"dtype\": \"category\",\n        \"num_unique_values\": 148,\n        \"samples\": [\n          \"\\ud5c8\\u25cb\\uc131\",\n          \"\\ub178\\u25cb\\uc900\",\n          \"\\uc774\\u25cb\\uc218\"\n        ],\n        \"semantic_type\": \"\",\n        \"description\": \"\"\n      }\n    },\n    {\n      \"column\": \"\\ub4f1\\ub85d\\ubc88\\ud638\",\n      \"properties\": {\n        \"dtype\": \"string\",\n        \"num_unique_values\": 1177,\n        \"samples\": [\n          \"GE0000023414\",\n          \"GE0000017453\",\n          \"GE0000023605\"\n        ],\n        \"semantic_type\": \"\",\n        \"description\": \"\"\n      }\n    },\n    {\n      \"column\": \"\\uc790\\ub8cc\\uba85\",\n      \"properties\": {\n        \"dtype\": \"string\",\n        \"num_unique_values\": 1079,\n        \"samples\": [\n          \"\\ub124\\uc774\\ud0a4\\ub4dc \\ud4e8\\ucc98\",\n          \"\\uc2a4\\ud2b8\\ub7ad \\ubbf8\\ubd84\\ubc29\\uc815\\uc2dd\\uacfc \\uc120\\ud615\\ub300\\uc218\\ud559\",\n          \"\\ub7a9\\uac78\"\n        ],\n        \"semantic_type\": \"\",\n        \"description\": \"\"\n      }\n    },\n    {\n      \"column\": \"\\uccad\\uad6c\\uae30\\ud638\",\n      \"properties\": {\n        \"dtype\": \"string\",\n        \"num_unique_values\": 1163,\n        \"samples\": [\n          \"370.8 \\uc77494\\u3147\",\n          \"321.52 \\uc624894\\u3147\",\n          \"440 \\ud0c068\\u3145 c.3\"\n        ],\n        \"semantic_type\": \"\",\n        \"description\": \"\"\n      }\n    },\n    {\n      \"column\": \"\\ub300\\ucd9c\\uc77c\",\n      \"properties\": {\n        \"dtype\": \"object\",\n        \"num_unique_values\": 1140,\n        \"samples\": [\n          \"2021.09.06 15:53:37\",\n          \"2021.09.28 14:54:54\",\n          \"2021.03.26 16:41:29\"\n        ],\n        \"semantic_type\": \"\",\n        \"description\": \"\"\n      }\n    },\n    {\n      \"column\": \"\\ubc18\\ub0a9\\uc608\\uc815\\uc77c\",\n      \"properties\": {\n        \"dtype\": \"object\",\n        \"num_unique_values\": 171,\n        \"samples\": [\n          \"2024.05.18\",\n          \"2021.05.31\",\n          \"2024.02.03\"\n        ],\n        \"semantic_type\": \"\",\n        \"description\": \"\"\n      }\n    },\n    {\n      \"column\": \"\\uc5f0\\uc7a5\\ud68c\\uc218\",\n      \"properties\": {\n        \"dtype\": \"number\",\n        \"std\": 0,\n        \"min\": 0,\n        \"max\": 1,\n        \"num_unique_values\": 2,\n        \"samples\": [\n          1,\n          0\n        ],\n        \"semantic_type\": \"\",\n        \"description\": \"\"\n      }\n    },\n    {\n      \"column\": \"\\uc0c1\\ud0dc\",\n      \"properties\": {\n        \"dtype\": \"category\",\n        \"num_unique_values\": 2,\n        \"samples\": [\n          \"\\uc5f0\\uccb4\",\n          \"\\uc815\\uc0c1\"\n        ],\n        \"semantic_type\": \"\",\n        \"description\": \"\"\n      }\n    }\n  ]\n}"
            }
          },
          "metadata": {},
          "execution_count": 13
        }
      ]
    },
    {
      "cell_type": "code",
      "metadata": {
        "id": "RUK_wAEK5r3F"
      },
      "source": [
        "        # 데이터의 행수 세기"
      ],
      "execution_count": 4,
      "outputs": []
    },
    {
      "cell_type": "markdown",
      "metadata": {
        "id": "nM8HKxrDCzOH"
      },
      "source": [
        "## 데이터 분석 및 시각화"
      ]
    },
    {
      "cell_type": "markdown",
      "metadata": {
        "id": "v2za-Jy4FWE3"
      },
      "source": [
        "데이터에 나타나는 대출자 이름과 횟수를 누적합니다."
      ]
    },
    {
      "cell_type": "code",
      "metadata": {
        "id": "XEHFGJQDIQTn",
        "colab": {
          "base_uri": "https://localhost:8080/"
        },
        "outputId": "cf98fd69-4933-4274-c952-c859c98e3b22"
      },
      "source": [
        "# 대출자 명단과 대출횟수를 저장한 딕셔너리 준비\n",
        "borrower = {}\n",
        "\n",
        "for i in range(len(data.index)):  # 데이터 파일의 첫 행부터 마지막 행까지 반복\n",
        "  row = data.iloc[i]  # 데이터 행의 값을 row에 저장\n",
        "  name = row['대출자']  # 데이터 행의 대출자 이름을 name 에 저장\n",
        "\n",
        "  if name in borrower:  # 대출자 이름이 존재하면 대출횟수를 1 증가\n",
        "    borrower[name] += 1\n",
        "  else:                 # 대출자 이름이 없으면 대출자 이름 추가하고 대출횟수를 1로 초기화\n",
        "    borrower[name] = 1\n",
        "\n",
        "print(borrower)\n",
        "print(len(borrower))"
      ],
      "execution_count": 15,
      "outputs": [
        {
          "output_type": "stream",
          "name": "stdout",
          "text": [
            "{'김○만': 19, '심○영': 8, '전○서': 21, '성○중': 7, '이○혜': 29, '김○운': 7, '한○민': 2, '조○환': 1, '윤○석': 7, '김○정': 28, '김○영': 4, '이○은': 40, '김○주': 37, '박○윤': 232, '김○현': 19, '최○나': 36, '김○희': 5, '최○선': 27, '김○리': 34, '신○정': 22, '이○재': 3, '조○윤': 2, '정○훈': 17, '이○건': 1, '이○영': 3, '김○화': 14, '박○규': 14, '김○수': 17, '이○우': 7, '임○빈': 5, '장○명': 11, '김○진': 9, '이○환': 1, '이○숙': 11, '이○구': 1, '한○원': 32, '박○연': 71, '윤○혁': 1, '김○범': 3, '김○우': 5, '이○찬': 2, '김○성': 4, '정○희': 7, '전○호': 9, '조○원': 9, '김○순': 1, '박○형': 11, '박○준': 6, '김○윤': 7, '안○우': 5, '배○빈': 5, '노○준': 1, '서○승': 9, '김○완': 4, '윤○성': 1, '오○웅': 1, '최○화': 2, '송○진': 2, '이○규': 1, '서○향': 13, '김○민': 1, '김○상': 1, '김○서': 5, '박○희': 2, '송○석': 2, '임○혁': 2, '진○후': 2, '선○현': 1, '정○우': 6, '김○준': 3, '홍○원': 3, '황○한': 6, '이○권': 1, '조○우': 1, '유○혁': 6, '김○림': 3, '김○숙': 11, '하○현': 7, '한○수': 4, '박○순': 9, '정○옥': 7, '최○은': 4, '정○원': 9, '김○향': 5, '한○정': 4, '김○효': 3, '신○준': 1, '이○주': 2, '이○형': 2, '이○하': 7, 'J○n': 1, '이○윤': 2, '최○영': 2, '김○연': 3, '강○욱': 3, '윤○빈': 1, '류○찬': 3, '김○섭': 1, '김○헌': 4, '정○린': 3, '김○찬': 10, '진○민': 2, '이○성': 4, '김○탁': 5, '예○우': 3, '구○모': 7, '정○자': 2, '최○원': 4, '김○선': 4, '조○성': 1, '정○안': 2, '김○하': 6, '황○보': 2, '신○원': 1, '정○수': 1, '원○찬': 1, '육○수': 1, '윤○영': 3, '박○현': 7, '백○우': 1, '김○휘': 1, '김○은': 2, '이○현': 5, '이○원': 1, '이○준': 1, '허○성': 1, '곽○준': 1, '박○덕': 1, '배○성': 1, '유○우': 5, '심○진': 1, '홍○담': 1, '최○훈': 2, '김○일': 2, '하○준': 2, '윤○현': 3, '주○우': 1, '심○용': 1, '오○성': 3, '이○수': 1, '이○민': 2, '송○민': 1, '정○민': 2, '최○진': 3, '곽○철': 2, '장○서': 1, '최○호': 3, '장○민': 4}\n",
            "148\n"
          ]
        }
      ]
    },
    {
      "cell_type": "markdown",
      "metadata": {
        "id": "btsNNPFvJZso"
      },
      "source": [
        "대출 횟수가 많은 상위 10명의 명단과 대출 횟수 구하기"
      ]
    },
    {
      "cell_type": "code",
      "metadata": {
        "id": "ioFxvEaXeIjf",
        "colab": {
          "base_uri": "https://localhost:8080/"
        },
        "outputId": "3843a86c-c001-460c-8eeb-5e51de93af78"
      },
      "source": [
        "borrower_list = sorted(borrower.items(), key=lambda x: x[1], reverse=True)    # 대출횟수가 많은 순으로 정렬\n",
        "print(borrower_list)\n",
        "for i in borrower_list[:10]:\n",
        "  print(\"이름:\", i[0], \"대출횟수:\", i[1])\n",
        "                  # 상위 10개의 데이터 출력\n",
        "                  # 이름과 대출횟수 출력"
      ],
      "execution_count": 16,
      "outputs": [
        {
          "output_type": "stream",
          "name": "stdout",
          "text": [
            "[('박○윤', 232), ('박○연', 71), ('이○은', 40), ('김○주', 37), ('최○나', 36), ('김○리', 34), ('한○원', 32), ('이○혜', 29), ('김○정', 28), ('최○선', 27), ('신○정', 22), ('전○서', 21), ('김○만', 19), ('김○현', 19), ('정○훈', 17), ('김○수', 17), ('김○화', 14), ('박○규', 14), ('서○향', 13), ('장○명', 11), ('이○숙', 11), ('박○형', 11), ('김○숙', 11), ('김○찬', 10), ('김○진', 9), ('전○호', 9), ('조○원', 9), ('서○승', 9), ('박○순', 9), ('정○원', 9), ('심○영', 8), ('성○중', 7), ('김○운', 7), ('윤○석', 7), ('이○우', 7), ('정○희', 7), ('김○윤', 7), ('하○현', 7), ('정○옥', 7), ('이○하', 7), ('구○모', 7), ('박○현', 7), ('박○준', 6), ('정○우', 6), ('황○한', 6), ('유○혁', 6), ('김○하', 6), ('김○희', 5), ('임○빈', 5), ('김○우', 5), ('안○우', 5), ('배○빈', 5), ('김○서', 5), ('김○향', 5), ('김○탁', 5), ('이○현', 5), ('유○우', 5), ('김○영', 4), ('김○성', 4), ('김○완', 4), ('한○수', 4), ('최○은', 4), ('한○정', 4), ('김○헌', 4), ('이○성', 4), ('최○원', 4), ('김○선', 4), ('장○민', 4), ('이○재', 3), ('이○영', 3), ('김○범', 3), ('김○준', 3), ('홍○원', 3), ('김○림', 3), ('김○효', 3), ('김○연', 3), ('강○욱', 3), ('류○찬', 3), ('정○린', 3), ('예○우', 3), ('윤○영', 3), ('윤○현', 3), ('오○성', 3), ('최○진', 3), ('최○호', 3), ('한○민', 2), ('조○윤', 2), ('이○찬', 2), ('최○화', 2), ('송○진', 2), ('박○희', 2), ('송○석', 2), ('임○혁', 2), ('진○후', 2), ('이○주', 2), ('이○형', 2), ('이○윤', 2), ('최○영', 2), ('진○민', 2), ('정○자', 2), ('정○안', 2), ('황○보', 2), ('김○은', 2), ('최○훈', 2), ('김○일', 2), ('하○준', 2), ('이○민', 2), ('정○민', 2), ('곽○철', 2), ('조○환', 1), ('이○건', 1), ('이○환', 1), ('이○구', 1), ('윤○혁', 1), ('김○순', 1), ('노○준', 1), ('윤○성', 1), ('오○웅', 1), ('이○규', 1), ('김○민', 1), ('김○상', 1), ('선○현', 1), ('이○권', 1), ('조○우', 1), ('신○준', 1), ('J○n', 1), ('윤○빈', 1), ('김○섭', 1), ('조○성', 1), ('신○원', 1), ('정○수', 1), ('원○찬', 1), ('육○수', 1), ('백○우', 1), ('김○휘', 1), ('이○원', 1), ('이○준', 1), ('허○성', 1), ('곽○준', 1), ('박○덕', 1), ('배○성', 1), ('심○진', 1), ('홍○담', 1), ('주○우', 1), ('심○용', 1), ('이○수', 1), ('송○민', 1), ('장○서', 1)]\n",
            "이름: 박○윤 대출횟수: 232\n",
            "이름: 박○연 대출횟수: 71\n",
            "이름: 이○은 대출횟수: 40\n",
            "이름: 김○주 대출횟수: 37\n",
            "이름: 최○나 대출횟수: 36\n",
            "이름: 김○리 대출횟수: 34\n",
            "이름: 한○원 대출횟수: 32\n",
            "이름: 이○혜 대출횟수: 29\n",
            "이름: 김○정 대출횟수: 28\n",
            "이름: 최○선 대출횟수: 27\n"
          ]
        }
      ]
    },
    {
      "cell_type": "markdown",
      "metadata": {
        "id": "oV_ynWb5eI5J"
      },
      "source": [
        "대출 횟수가 많은 상위 10명의 명단과 대출 횟수로 시각화하기"
      ]
    },
    {
      "cell_type": "code",
      "metadata": {
        "id": "cv_TlJ24Jj_f",
        "colab": {
          "base_uri": "https://localhost:8080/",
          "height": 430
        },
        "outputId": "fadb78d1-c2f0-4b12-d47e-b3bd9351550c"
      },
      "source": [
        "import matplotlib.pyplot as plt\n",
        "\n",
        "name = []           # name 리스트 생성 - 이름\n",
        "amount = []           # amount 리스트 생성 - 대출 횟수\n",
        "\n",
        "for i in borrower_list[:10]:\n",
        "  name.append(i[0])           # 상위 10개의 데이터 출력\n",
        "  amount.append(i[1])                     #  name 리스트에 이름 저장\n",
        "                       #  amount 리스트에 대출횟수 저장\n",
        "\n",
        "\n",
        "plt.rc('font', family='NanumBarunGothic')     # 한글 사용을 위한 폰트 지정\n",
        "plt.bar(name, amount)                         # 요일과 매출금액으로 막대 그래프 그리기\n",
        "plt.show()"
      ],
      "execution_count": 17,
      "outputs": [
        {
          "output_type": "display_data",
          "data": {
            "text/plain": [
              "<Figure size 640x480 with 1 Axes>"
            ],
            "image/png": "[encoded data removed]"
          },
          "metadata": {}
        }
      ]
    },
    {
      "cell_type": "code",
      "source": [
        "#데이터 분석과 시각화 수업(식당 문제, 도서대여 순위 문제)을 통해 새롭게 알게 된 점과 느낀점 쓰기\n",
        "#\n",
        "#"
      ],
      "metadata": {
        "id": "Pf__uzWv19oe"
      },
      "execution_count": null,
      "outputs": []
    },
    {
      "cell_type": "code",
      "source": [
        "# 앞으로 분석해 보고 싶은 주제 1가지 쓰기\n",
        "#"
      ],
      "metadata": {
        "id": "oN7hRHWFHBmS"
      },
      "execution_count": null,
      "outputs": []
    }
  ]
}